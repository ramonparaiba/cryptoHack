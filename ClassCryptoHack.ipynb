{
  "nbformat": 4,
  "nbformat_minor": 0,
  "metadata": {
    "colab": {
      "provenance": [],
      "authorship_tag": "ABX9TyNrzR9kckp38QkfFp4vWZ6K",
      "include_colab_link": true
    },
    "kernelspec": {
      "name": "python3",
      "display_name": "Python 3"
    },
    "language_info": {
      "name": "python"
    }
  },
  "cells": [
    {
      "cell_type": "markdown",
      "metadata": {
        "id": "view-in-github",
        "colab_type": "text"
      },
      "source": [
        "<a href=\"https://colab.research.google.com/github/ramonparaiba/cryptoHack/blob/main/ClassCryptoHack.ipynb\" target=\"_parent\"><img src=\"https://colab.research.google.com/assets/colab-badge.svg\" alt=\"Open In Colab\"/></a>"
      ]
    },
    {
      "cell_type": "code",
      "execution_count": 1,
      "metadata": {
        "colab": {
          "base_uri": "https://localhost:8080/"
        },
        "id": "Z-3AZPadUfjj",
        "outputId": "a155e249-3cc3-4187-e296-96737e7f3686"
      },
      "outputs": [
        {
          "output_type": "stream",
          "name": "stdout",
          "text": [
            "Here is your flag:\n",
            "crypto{z3n_0f_pyth0n}\n"
          ]
        }
      ],
      "source": [
        "#!/usr/bin/env python3\n",
        "\n",
        "import sys\n",
        "# import this\n",
        "\n",
        "if sys.version_info.major == 2:\n",
        "    print(\"You are running Python 2, which is no longer supported. Please update to Python 3.\")\n",
        "\n",
        "ords = [81, 64, 75, 66, 70, 93, 73, 72, 1, 92, 109, 2, 84, 109, 66, 75, 70, 90, 2, 92, 79]\n",
        "\n",
        "print(\"Here is your flag:\")\n",
        "print(\"\".join(chr(o ^ 0x32) for o in ords))"
      ]
    },
    {
      "cell_type": "code",
      "source": [
        "print(chr(65))\n",
        "print(ord('A'))"
      ],
      "metadata": {
        "colab": {
          "base_uri": "https://localhost:8080/"
        },
        "id": "HeO-mBEaXKS6",
        "outputId": "b5b66794-7e2b-4fb9-cfd0-553105c0a4a4"
      },
      "execution_count": 5,
      "outputs": [
        {
          "output_type": "stream",
          "name": "stdout",
          "text": [
            "A\n",
            "65\n"
          ]
        }
      ]
    },
    {
      "cell_type": "code",
      "source": [
        "#ASCII\n",
        "#Usando o array de inteiros abaixo, converta os números para seus caracteres ASCII correspondentes para obter um sinalizador.\n",
        "\n",
        "nums=[99, 114, 121, 112, 116, 111, 123, 65, 83, 67, 73, 73, 95, 112, 114, 49, 110, 116, 52, 98, 108, 51, 125]\n",
        "print(\"\".join(chr(n) for n in nums))"
      ],
      "metadata": {
        "colab": {
          "base_uri": "https://localhost:8080/"
        },
        "id": "zVF418SkXePF",
        "outputId": "3a46282c-c528-479d-a07b-72f73eaca57e"
      },
      "execution_count": 6,
      "outputs": [
        {
          "output_type": "stream",
          "name": "stdout",
          "text": [
            "crypto{ASCII_pr1nt4bl3}\n"
          ]
        }
      ]
    }
  ]
}